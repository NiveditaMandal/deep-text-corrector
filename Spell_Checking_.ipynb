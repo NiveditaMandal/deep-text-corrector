{
  "nbformat": 4,
  "nbformat_minor": 0,
  "metadata": {
    "colab": {
      "name": "Spell Checking .ipynb",
      "provenance": [],
      "include_colab_link": true
    },
    "kernelspec": {
      "name": "python3",
      "display_name": "Python 3"
    }
  },
  "cells": [
    {
      "cell_type": "markdown",
      "metadata": {
        "id": "view-in-github",
        "colab_type": "text"
      },
      "source": [
        "<a href=\"https://colab.research.google.com/github/NiveditaMandal/deep-text-corrector/blob/master/Spell_Checking_.ipynb\" target=\"_parent\"><img src=\"https://colab.research.google.com/assets/colab-badge.svg\" alt=\"Open In Colab\"/></a>"
      ]
    },
    {
      "cell_type": "markdown",
      "metadata": {
        "id": "QPAJe4dzD7zC",
        "colab_type": "text"
      },
      "source": [
        "# TextBlob\n",
        "\n"
      ]
    },
    {
      "cell_type": "code",
      "metadata": {
        "id": "ARXmBvbNEA6y",
        "colab_type": "code",
        "colab": {
          "base_uri": "https://localhost:8080/",
          "height": 33
        },
        "outputId": "3f9608b8-59cf-4e79-f1d1-aad88e81bc3c"
      },
      "source": [
        "from textblob import TextBlob\n",
        "\n",
        "text = TextBlob(\"I havv goood speling!\")\n",
        "str(text.correct())"
      ],
      "execution_count": null,
      "outputs": [
        {
          "output_type": "execute_result",
          "data": {
            "text/plain": [
              "'I have good spelling!'"
            ]
          },
          "metadata": {
            "tags": []
          },
          "execution_count": 52
        }
      ]
    },
    {
      "cell_type": "markdown",
      "metadata": {
        "id": "P3ziq8wDIw0o",
        "colab_type": "text"
      },
      "source": [
        "# autocorrect"
      ]
    },
    {
      "cell_type": "code",
      "metadata": {
        "id": "XFy7fSXhGknk",
        "colab_type": "code",
        "colab": {
          "base_uri": "https://localhost:8080/",
          "height": 184
        },
        "outputId": "8003bf20-1739-4316-eebb-03931667c9ed"
      },
      "source": [
        "!pip install autocorrect"
      ],
      "execution_count": null,
      "outputs": [
        {
          "output_type": "stream",
          "text": [
            "Collecting autocorrect\n",
            "\u001b[?25l  Downloading https://files.pythonhosted.org/packages/51/fb/d697cb75019c14503f42deed9774e67e9073160b7c5b4fb90aa40d458452/autocorrect-0.4.4.tar.gz (19.1MB)\n",
            "\u001b[K     |████████████████████████████████| 19.1MB 269kB/s \n",
            "\u001b[?25hBuilding wheels for collected packages: autocorrect\n",
            "  Building wheel for autocorrect (setup.py) ... \u001b[?25l\u001b[?25hdone\n",
            "  Created wheel for autocorrect: filename=autocorrect-0.4.4-cp36-none-any.whl size=19134813 sha256=f779b7db3e4d3d007db0b0050482a281c7532dfaaa01ccce095729cb71f759ea\n",
            "  Stored in directory: /root/.cache/pip/wheels/e5/80/6d/feed99c22f3f15b0b6881569dc9021f7e94b6464aa0688d819\n",
            "Successfully built autocorrect\n",
            "Installing collected packages: autocorrect\n",
            "Successfully installed autocorrect-0.4.4\n"
          ],
          "name": "stdout"
        }
      ]
    },
    {
      "cell_type": "code",
      "metadata": {
        "id": "9IDLR1xYEiiA",
        "colab_type": "code",
        "colab": {
          "base_uri": "https://localhost:8080/",
          "height": 33
        },
        "outputId": "2de0d011-b993-492c-b685-0ef7e20a9e00"
      },
      "source": [
        "from autocorrect import Speller\n",
        "\n",
        "spell = Speller(lang='en')\n",
        "spell(\"I'm not sleapy and tehre is no place I'm giong to.\")"
      ],
      "execution_count": null,
      "outputs": [
        {
          "output_type": "execute_result",
          "data": {
            "text/plain": [
              "\"I'm not sleepy and there is no place I'm going to.\""
            ]
          },
          "metadata": {
            "tags": []
          },
          "execution_count": 53
        }
      ]
    },
    {
      "cell_type": "markdown",
      "metadata": {
        "id": "2C9CSSfQItMC",
        "colab_type": "text"
      },
      "source": [
        "# pyspellchecker"
      ]
    },
    {
      "cell_type": "code",
      "metadata": {
        "id": "V8xfv4wbIPjg",
        "colab_type": "code",
        "colab": {
          "base_uri": "https://localhost:8080/",
          "height": 120
        },
        "outputId": "4ad79c07-6a68-4521-a5ac-5175b1ca9b91"
      },
      "source": [
        "!pip install pyspellchecker"
      ],
      "execution_count": null,
      "outputs": [
        {
          "output_type": "stream",
          "text": [
            "Collecting pyspellchecker\n",
            "\u001b[?25l  Downloading https://files.pythonhosted.org/packages/04/d1/ec4e830e9f9c1fd788e1459dd09279fdf807bc7a475579fd7192450b879c/pyspellchecker-0.5.4-py2.py3-none-any.whl (1.9MB)\n",
            "\r\u001b[K     |▏                               | 10kB 15.5MB/s eta 0:00:01\r\u001b[K     |▍                               | 20kB 1.9MB/s eta 0:00:02\r\u001b[K     |▌                               | 30kB 2.7MB/s eta 0:00:01\r\u001b[K     |▊                               | 40kB 1.7MB/s eta 0:00:02\r\u001b[K     |▉                               | 51kB 2.2MB/s eta 0:00:01\r\u001b[K     |█                               | 61kB 2.6MB/s eta 0:00:01\r\u001b[K     |█▏                              | 71kB 3.0MB/s eta 0:00:01\r\u001b[K     |█▍                              | 81kB 3.4MB/s eta 0:00:01\r\u001b[K     |█▌                              | 92kB 3.7MB/s eta 0:00:01\r\u001b[K     |█▊                              | 102kB 2.9MB/s eta 0:00:01\r\u001b[K     |█▉                              | 112kB 2.9MB/s eta 0:00:01\r\u001b[K     |██                              | 122kB 2.9MB/s eta 0:00:01\r\u001b[K     |██▎                             | 133kB 2.9MB/s eta 0:00:01\r\u001b[K     |██▍                             | 143kB 2.9MB/s eta 0:00:01\r\u001b[K     |██▋                             | 153kB 2.9MB/s eta 0:00:01\r\u001b[K     |██▊                             | 163kB 2.9MB/s eta 0:00:01\r\u001b[K     |███                             | 174kB 2.9MB/s eta 0:00:01\r\u001b[K     |███                             | 184kB 2.9MB/s eta 0:00:01\r\u001b[K     |███▎                            | 194kB 2.9MB/s eta 0:00:01\r\u001b[K     |███▍                            | 204kB 2.9MB/s eta 0:00:01\r\u001b[K     |███▋                            | 215kB 2.9MB/s eta 0:00:01\r\u001b[K     |███▊                            | 225kB 2.9MB/s eta 0:00:01\r\u001b[K     |████                            | 235kB 2.9MB/s eta 0:00:01\r\u001b[K     |████▏                           | 245kB 2.9MB/s eta 0:00:01\r\u001b[K     |████▎                           | 256kB 2.9MB/s eta 0:00:01\r\u001b[K     |████▌                           | 266kB 2.9MB/s eta 0:00:01\r\u001b[K     |████▋                           | 276kB 2.9MB/s eta 0:00:01\r\u001b[K     |████▉                           | 286kB 2.9MB/s eta 0:00:01\r\u001b[K     |█████                           | 296kB 2.9MB/s eta 0:00:01\r\u001b[K     |█████▏                          | 307kB 2.9MB/s eta 0:00:01\r\u001b[K     |█████▎                          | 317kB 2.9MB/s eta 0:00:01\r\u001b[K     |█████▌                          | 327kB 2.9MB/s eta 0:00:01\r\u001b[K     |█████▋                          | 337kB 2.9MB/s eta 0:00:01\r\u001b[K     |█████▉                          | 348kB 2.9MB/s eta 0:00:01\r\u001b[K     |██████                          | 358kB 2.9MB/s eta 0:00:01\r\u001b[K     |██████▏                         | 368kB 2.9MB/s eta 0:00:01\r\u001b[K     |██████▍                         | 378kB 2.9MB/s eta 0:00:01\r\u001b[K     |██████▌                         | 389kB 2.9MB/s eta 0:00:01\r\u001b[K     |██████▊                         | 399kB 2.9MB/s eta 0:00:01\r\u001b[K     |██████▉                         | 409kB 2.9MB/s eta 0:00:01\r\u001b[K     |███████                         | 419kB 2.9MB/s eta 0:00:01\r\u001b[K     |███████▏                        | 430kB 2.9MB/s eta 0:00:01\r\u001b[K     |███████▍                        | 440kB 2.9MB/s eta 0:00:01\r\u001b[K     |███████▌                        | 450kB 2.9MB/s eta 0:00:01\r\u001b[K     |███████▊                        | 460kB 2.9MB/s eta 0:00:01\r\u001b[K     |████████                        | 471kB 2.9MB/s eta 0:00:01\r\u001b[K     |████████                        | 481kB 2.9MB/s eta 0:00:01\r\u001b[K     |████████▎                       | 491kB 2.9MB/s eta 0:00:01\r\u001b[K     |████████▍                       | 501kB 2.9MB/s eta 0:00:01\r\u001b[K     |████████▋                       | 512kB 2.9MB/s eta 0:00:01\r\u001b[K     |████████▊                       | 522kB 2.9MB/s eta 0:00:01\r\u001b[K     |█████████                       | 532kB 2.9MB/s eta 0:00:01\r\u001b[K     |█████████                       | 542kB 2.9MB/s eta 0:00:01\r\u001b[K     |█████████▎                      | 552kB 2.9MB/s eta 0:00:01\r\u001b[K     |█████████▍                      | 563kB 2.9MB/s eta 0:00:01\r\u001b[K     |█████████▋                      | 573kB 2.9MB/s eta 0:00:01\r\u001b[K     |█████████▉                      | 583kB 2.9MB/s eta 0:00:01\r\u001b[K     |██████████                      | 593kB 2.9MB/s eta 0:00:01\r\u001b[K     |██████████▏                     | 604kB 2.9MB/s eta 0:00:01\r\u001b[K     |██████████▎                     | 614kB 2.9MB/s eta 0:00:01\r\u001b[K     |██████████▌                     | 624kB 2.9MB/s eta 0:00:01\r\u001b[K     |██████████▋                     | 634kB 2.9MB/s eta 0:00:01\r\u001b[K     |██████████▉                     | 645kB 2.9MB/s eta 0:00:01\r\u001b[K     |███████████                     | 655kB 2.9MB/s eta 0:00:01\r\u001b[K     |███████████▏                    | 665kB 2.9MB/s eta 0:00:01\r\u001b[K     |███████████▎                    | 675kB 2.9MB/s eta 0:00:01\r\u001b[K     |███████████▌                    | 686kB 2.9MB/s eta 0:00:01\r\u001b[K     |███████████▊                    | 696kB 2.9MB/s eta 0:00:01\r\u001b[K     |███████████▉                    | 706kB 2.9MB/s eta 0:00:01\r\u001b[K     |████████████                    | 716kB 2.9MB/s eta 0:00:01\r\u001b[K     |████████████▏                   | 727kB 2.9MB/s eta 0:00:01\r\u001b[K     |████████████▍                   | 737kB 2.9MB/s eta 0:00:01\r\u001b[K     |████████████▌                   | 747kB 2.9MB/s eta 0:00:01\r\u001b[K     |████████████▊                   | 757kB 2.9MB/s eta 0:00:01\r\u001b[K     |████████████▉                   | 768kB 2.9MB/s eta 0:00:01\r\u001b[K     |█████████████                   | 778kB 2.9MB/s eta 0:00:01\r\u001b[K     |█████████████▏                  | 788kB 2.9MB/s eta 0:00:01\r\u001b[K     |█████████████▍                  | 798kB 2.9MB/s eta 0:00:01\r\u001b[K     |█████████████▋                  | 808kB 2.9MB/s eta 0:00:01\r\u001b[K     |█████████████▊                  | 819kB 2.9MB/s eta 0:00:01\r\u001b[K     |██████████████                  | 829kB 2.9MB/s eta 0:00:01\r\u001b[K     |██████████████                  | 839kB 2.9MB/s eta 0:00:01\r\u001b[K     |██████████████▎                 | 849kB 2.9MB/s eta 0:00:01\r\u001b[K     |██████████████▍                 | 860kB 2.9MB/s eta 0:00:01\r\u001b[K     |██████████████▋                 | 870kB 2.9MB/s eta 0:00:01\r\u001b[K     |██████████████▊                 | 880kB 2.9MB/s eta 0:00:01\r\u001b[K     |███████████████                 | 890kB 2.9MB/s eta 0:00:01\r\u001b[K     |███████████████                 | 901kB 2.9MB/s eta 0:00:01\r\u001b[K     |███████████████▎                | 911kB 2.9MB/s eta 0:00:01\r\u001b[K     |███████████████▌                | 921kB 2.9MB/s eta 0:00:01\r\u001b[K     |███████████████▋                | 931kB 2.9MB/s eta 0:00:01\r\u001b[K     |███████████████▉                | 942kB 2.9MB/s eta 0:00:01\r\u001b[K     |████████████████                | 952kB 2.9MB/s eta 0:00:01\r\u001b[K     |████████████████▏               | 962kB 2.9MB/s eta 0:00:01\r\u001b[K     |████████████████▎               | 972kB 2.9MB/s eta 0:00:01\r\u001b[K     |████████████████▌               | 983kB 2.9MB/s eta 0:00:01\r\u001b[K     |████████████████▋               | 993kB 2.9MB/s eta 0:00:01\r\u001b[K     |████████████████▉               | 1.0MB 2.9MB/s eta 0:00:01\r\u001b[K     |█████████████████               | 1.0MB 2.9MB/s eta 0:00:01\r\u001b[K     |█████████████████▏              | 1.0MB 2.9MB/s eta 0:00:01\r\u001b[K     |█████████████████▍              | 1.0MB 2.9MB/s eta 0:00:01\r\u001b[K     |█████████████████▌              | 1.0MB 2.9MB/s eta 0:00:01\r\u001b[K     |█████████████████▊              | 1.1MB 2.9MB/s eta 0:00:01\r\u001b[K     |█████████████████▉              | 1.1MB 2.9MB/s eta 0:00:01\r\u001b[K     |██████████████████              | 1.1MB 2.9MB/s eta 0:00:01\r\u001b[K     |██████████████████▏             | 1.1MB 2.9MB/s eta 0:00:01\r\u001b[K     |██████████████████▍             | 1.1MB 2.9MB/s eta 0:00:01\r\u001b[K     |██████████████████▌             | 1.1MB 2.9MB/s eta 0:00:01\r\u001b[K     |██████████████████▊             | 1.1MB 2.9MB/s eta 0:00:01\r\u001b[K     |██████████████████▉             | 1.1MB 2.9MB/s eta 0:00:01\r\u001b[K     |███████████████████             | 1.1MB 2.9MB/s eta 0:00:01\r\u001b[K     |███████████████████▎            | 1.1MB 2.9MB/s eta 0:00:01\r\u001b[K     |███████████████████▍            | 1.2MB 2.9MB/s eta 0:00:01\r\u001b[K     |███████████████████▋            | 1.2MB 2.9MB/s eta 0:00:01\r\u001b[K     |███████████████████▊            | 1.2MB 2.9MB/s eta 0:00:01\r\u001b[K     |████████████████████            | 1.2MB 2.9MB/s eta 0:00:01\r\u001b[K     |████████████████████            | 1.2MB 2.9MB/s eta 0:00:01\r\u001b[K     |████████████████████▎           | 1.2MB 2.9MB/s eta 0:00:01\r\u001b[K     |████████████████████▍           | 1.2MB 2.9MB/s eta 0:00:01\r\u001b[K     |████████████████████▋           | 1.2MB 2.9MB/s eta 0:00:01\r\u001b[K     |████████████████████▊           | 1.2MB 2.9MB/s eta 0:00:01\r\u001b[K     |█████████████████████           | 1.2MB 2.9MB/s eta 0:00:01\r\u001b[K     |█████████████████████▏          | 1.3MB 2.9MB/s eta 0:00:01\r\u001b[K     |█████████████████████▎          | 1.3MB 2.9MB/s eta 0:00:01\r\u001b[K     |█████████████████████▌          | 1.3MB 2.9MB/s eta 0:00:01\r\u001b[K     |█████████████████████▋          | 1.3MB 2.9MB/s eta 0:00:01\r\u001b[K     |█████████████████████▉          | 1.3MB 2.9MB/s eta 0:00:01\r\u001b[K     |██████████████████████          | 1.3MB 2.9MB/s eta 0:00:01\r\u001b[K     |██████████████████████▏         | 1.3MB 2.9MB/s eta 0:00:01\r\u001b[K     |██████████████████████▎         | 1.3MB 2.9MB/s eta 0:00:01\r\u001b[K     |██████████████████████▌         | 1.3MB 2.9MB/s eta 0:00:01\r\u001b[K     |██████████████████████▋         | 1.4MB 2.9MB/s eta 0:00:01\r\u001b[K     |██████████████████████▉         | 1.4MB 2.9MB/s eta 0:00:01\r\u001b[K     |███████████████████████         | 1.4MB 2.9MB/s eta 0:00:01\r\u001b[K     |███████████████████████▏        | 1.4MB 2.9MB/s eta 0:00:01\r\u001b[K     |███████████████████████▍        | 1.4MB 2.9MB/s eta 0:00:01\r\u001b[K     |███████████████████████▌        | 1.4MB 2.9MB/s eta 0:00:01\r\u001b[K     |███████████████████████▊        | 1.4MB 2.9MB/s eta 0:00:01\r\u001b[K     |███████████████████████▉        | 1.4MB 2.9MB/s eta 0:00:01\r\u001b[K     |████████████████████████        | 1.4MB 2.9MB/s eta 0:00:01\r\u001b[K     |████████████████████████▏       | 1.4MB 2.9MB/s eta 0:00:01\r\u001b[K     |████████████████████████▍       | 1.5MB 2.9MB/s eta 0:00:01\r\u001b[K     |████████████████████████▌       | 1.5MB 2.9MB/s eta 0:00:01\r\u001b[K     |████████████████████████▊       | 1.5MB 2.9MB/s eta 0:00:01\r\u001b[K     |█████████████████████████       | 1.5MB 2.9MB/s eta 0:00:01\r\u001b[K     |█████████████████████████       | 1.5MB 2.9MB/s eta 0:00:01\r\u001b[K     |█████████████████████████▎      | 1.5MB 2.9MB/s eta 0:00:01\r\u001b[K     |█████████████████████████▍      | 1.5MB 2.9MB/s eta 0:00:01\r\u001b[K     |█████████████████████████▋      | 1.5MB 2.9MB/s eta 0:00:01\r\u001b[K     |█████████████████████████▊      | 1.5MB 2.9MB/s eta 0:00:01\r\u001b[K     |██████████████████████████      | 1.5MB 2.9MB/s eta 0:00:01\r\u001b[K     |██████████████████████████      | 1.6MB 2.9MB/s eta 0:00:01\r\u001b[K     |██████████████████████████▎     | 1.6MB 2.9MB/s eta 0:00:01\r\u001b[K     |██████████████████████████▍     | 1.6MB 2.9MB/s eta 0:00:01\r\u001b[K     |██████████████████████████▋     | 1.6MB 2.9MB/s eta 0:00:01\r\u001b[K     |██████████████████████████▉     | 1.6MB 2.9MB/s eta 0:00:01\r\u001b[K     |███████████████████████████     | 1.6MB 2.9MB/s eta 0:00:01\r\u001b[K     |███████████████████████████▏    | 1.6MB 2.9MB/s eta 0:00:01\r\u001b[K     |███████████████████████████▎    | 1.6MB 2.9MB/s eta 0:00:01\r\u001b[K     |███████████████████████████▌    | 1.6MB 2.9MB/s eta 0:00:01\r\u001b[K     |███████████████████████████▋    | 1.6MB 2.9MB/s eta 0:00:01\r\u001b[K     |███████████████████████████▉    | 1.7MB 2.9MB/s eta 0:00:01\r\u001b[K     |████████████████████████████    | 1.7MB 2.9MB/s eta 0:00:01\r\u001b[K     |████████████████████████████▏   | 1.7MB 2.9MB/s eta 0:00:01\r\u001b[K     |████████████████████████████▎   | 1.7MB 2.9MB/s eta 0:00:01\r\u001b[K     |████████████████████████████▌   | 1.7MB 2.9MB/s eta 0:00:01\r\u001b[K     |████████████████████████████▊   | 1.7MB 2.9MB/s eta 0:00:01\r\u001b[K     |████████████████████████████▉   | 1.7MB 2.9MB/s eta 0:00:01\r\u001b[K     |█████████████████████████████   | 1.7MB 2.9MB/s eta 0:00:01\r\u001b[K     |█████████████████████████████▏  | 1.7MB 2.9MB/s eta 0:00:01\r\u001b[K     |█████████████████████████████▍  | 1.8MB 2.9MB/s eta 0:00:01\r\u001b[K     |█████████████████████████████▌  | 1.8MB 2.9MB/s eta 0:00:01\r\u001b[K     |█████████████████████████████▊  | 1.8MB 2.9MB/s eta 0:00:01\r\u001b[K     |█████████████████████████████▉  | 1.8MB 2.9MB/s eta 0:00:01\r\u001b[K     |██████████████████████████████  | 1.8MB 2.9MB/s eta 0:00:01\r\u001b[K     |██████████████████████████████▏ | 1.8MB 2.9MB/s eta 0:00:01\r\u001b[K     |██████████████████████████████▍ | 1.8MB 2.9MB/s eta 0:00:01\r\u001b[K     |██████████████████████████████▋ | 1.8MB 2.9MB/s eta 0:00:01\r\u001b[K     |██████████████████████████████▊ | 1.8MB 2.9MB/s eta 0:00:01\r\u001b[K     |███████████████████████████████ | 1.8MB 2.9MB/s eta 0:00:01\r\u001b[K     |███████████████████████████████ | 1.9MB 2.9MB/s eta 0:00:01\r\u001b[K     |███████████████████████████████▎| 1.9MB 2.9MB/s eta 0:00:01\r\u001b[K     |███████████████████████████████▍| 1.9MB 2.9MB/s eta 0:00:01\r\u001b[K     |███████████████████████████████▋| 1.9MB 2.9MB/s eta 0:00:01\r\u001b[K     |███████████████████████████████▊| 1.9MB 2.9MB/s eta 0:00:01\r\u001b[K     |████████████████████████████████| 1.9MB 2.9MB/s eta 0:00:01\r\u001b[K     |████████████████████████████████| 1.9MB 2.9MB/s \n",
            "\u001b[?25hInstalling collected packages: pyspellchecker\n",
            "Successfully installed pyspellchecker-0.5.4\n"
          ],
          "name": "stdout"
        }
      ]
    },
    {
      "cell_type": "code",
      "metadata": {
        "id": "RdxFYEC1Giee",
        "colab_type": "code",
        "colab": {
          "base_uri": "https://localhost:8080/",
          "height": 33
        },
        "outputId": "ff53a1a4-bf87-4448-b5fc-f25fd2a6fa42"
      },
      "source": [
        "from spellchecker import SpellChecker\n",
        "text = \"I havv goood speling !\"\n",
        "spell = SpellChecker()\n",
        "' '.join([spell.correction(word) for word in text.split()])"
      ],
      "execution_count": null,
      "outputs": [
        {
          "output_type": "execute_result",
          "data": {
            "text/plain": [
              "'I have good spelling !'"
            ]
          },
          "metadata": {
            "tags": []
          },
          "execution_count": 64
        }
      ]
    },
    {
      "cell_type": "markdown",
      "metadata": {
        "id": "0_3StNQvI0aA",
        "colab_type": "text"
      },
      "source": [
        "# Gingerit"
      ]
    },
    {
      "cell_type": "code",
      "metadata": {
        "id": "-C1R74BgIOBD",
        "colab_type": "code",
        "colab": {
          "base_uri": "https://localhost:8080/",
          "height": 369
        },
        "outputId": "f2b7bf18-bf88-41e5-c926-f97facca5881"
      },
      "source": [
        "!pip install gingerit"
      ],
      "execution_count": null,
      "outputs": [
        {
          "output_type": "stream",
          "text": [
            "Collecting gingerit\n",
            "  Downloading https://files.pythonhosted.org/packages/78/af/e537e83cbd83b60ca94530a42a0ad9b389bad50c98b0518118e653475eeb/gingerit-0.8.0-py3-none-any.whl\n",
            "Collecting requests<3.0,>=2.22\n",
            "\u001b[?25l  Downloading https://files.pythonhosted.org/packages/1a/70/1935c770cb3be6e3a8b78ced23d7e0f3b187f5cbfab4749523ed65d7c9b1/requests-2.23.0-py2.py3-none-any.whl (58kB)\n",
            "\u001b[K     |████████████████████████████████| 61kB 1.8MB/s \n",
            "\u001b[?25hRequirement already satisfied: urllib3!=1.25.0,!=1.25.1,<1.26,>=1.21.1 in /usr/local/lib/python3.6/dist-packages (from requests<3.0,>=2.22->gingerit) (1.24.3)\n",
            "Requirement already satisfied: chardet<4,>=3.0.2 in /usr/local/lib/python3.6/dist-packages (from requests<3.0,>=2.22->gingerit) (3.0.4)\n",
            "Requirement already satisfied: certifi>=2017.4.17 in /usr/local/lib/python3.6/dist-packages (from requests<3.0,>=2.22->gingerit) (2019.11.28)\n",
            "Requirement already satisfied: idna<3,>=2.5 in /usr/local/lib/python3.6/dist-packages (from requests<3.0,>=2.22->gingerit) (2.8)\n",
            "\u001b[31mERROR: google-colab 1.0.0 has requirement requests~=2.21.0, but you'll have requests 2.23.0 which is incompatible.\u001b[0m\n",
            "\u001b[31mERROR: datascience 0.10.6 has requirement folium==0.2.1, but you'll have folium 0.8.3 which is incompatible.\u001b[0m\n",
            "Installing collected packages: requests, gingerit\n",
            "  Found existing installation: requests 2.21.0\n",
            "    Uninstalling requests-2.21.0:\n",
            "      Successfully uninstalled requests-2.21.0\n",
            "Successfully installed gingerit-0.8.0 requests-2.23.0\n"
          ],
          "name": "stdout"
        },
        {
          "output_type": "display_data",
          "data": {
            "application/vnd.colab-display-data+json": {
              "pip_warning": {
                "packages": [
                  "requests"
                ]
              }
            }
          },
          "metadata": {
            "tags": []
          }
        }
      ]
    },
    {
      "cell_type": "code",
      "metadata": {
        "id": "_KDfNTLtJY5L",
        "colab_type": "code",
        "colab": {
          "base_uri": "https://localhost:8080/",
          "height": 33
        },
        "outputId": "daa691ca-132b-4ccd-ad9f-dbc73e184a98"
      },
      "source": [
        "from gingerit.gingerit import GingerIt\n",
        "\n",
        "text = \"I havv goood speling !\"\n",
        "\n",
        "parser = GingerIt()\n",
        "parser.parse(text)['result']"
      ],
      "execution_count": null,
      "outputs": [
        {
          "output_type": "execute_result",
          "data": {
            "text/plain": [
              "'I have good spelling!'"
            ]
          },
          "metadata": {
            "tags": []
          },
          "execution_count": 65
        }
      ]
    },
    {
      "cell_type": "code",
      "metadata": {
        "id": "bkPPKT8TeSrg",
        "colab_type": "code",
        "colab": {}
      },
      "source": [
        ""
      ],
      "execution_count": null,
      "outputs": []
    }
  ]
}